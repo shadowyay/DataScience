{
 "cells": [
  {
   "cell_type": "code",
   "execution_count": 2,
   "id": "c4c15dd5",
   "metadata": {},
   "outputs": [],
   "source": [
    "import pandas as pd\n",
    "import numpy as np\n",
    "from sklearn.preprocessing import MinMaxScaler\n",
    "from tensorflow.keras.preprocessing.sequence import TimeseriesGenerator\n",
    "from tensorflow.keras.models import Sequential\n",
    "from tensorflow.keras.layers import LSTM, Dense\n",
    "import matplotlib.pyplot as plt  # Added for plotting"
   ]
  },
  {
   "cell_type": "code",
   "execution_count": 3,
   "id": "4bf62065",
   "metadata": {},
   "outputs": [],
   "source": [
    "# Load the dataset\n",
    "df = pd.read_csv(\"last1.csv\")\n",
    "\n",
    "# Fix column names by stripping spaces\n",
    "df.columns = df.columns.str.strip()\n",
    "\n",
    "# Create Date index\n",
    "df['Date'] = pd.to_datetime(df[['year', 'month', 'day']])\n",
    "df.set_index('Date', inplace=True)\n"
   ]
  },
  {
   "cell_type": "code",
   "execution_count": null,
   "id": "06cd436d",
   "metadata": {},
   "outputs": [
    {
     "name": "stdout",
     "output_type": "stream",
     "text": [
      "            day  month  year  Temperature  RH  Ws  Rain  FFMC  DMC    DC  ISI  \\\n",
      "Date                                                                            \n",
      "2012-06-01    1      6  2012           29  57  18   0.0  65.7  3.4   7.6  1.3   \n",
      "2012-06-02    2      6  2012           29  61  13   1.3  64.4  4.1   7.6  1.0   \n",
      "2012-06-03    3      6  2012           26  82  22  13.1  47.1  2.5   7.1  0.3   \n",
      "2012-06-04    4      6  2012           25  89  13   2.5  28.6  1.3   6.9  0.0   \n",
      "2012-06-05    5      6  2012           27  77  16   0.0  64.8  3.0  14.2  1.2   \n",
      "\n",
      "            BUI  FWI      Classes  \n",
      "Date                               \n",
      "2012-06-01  3.4  0.5  not fire     \n",
      "2012-06-02  3.9  0.4  not fire     \n",
      "2012-06-03  2.7  0.1  not fire     \n",
      "2012-06-04  1.7  0.0  not fire     \n",
      "2012-06-05  3.9  0.5  not fire     \n"
     ]
    }
   ],
   "source": [
    "# Encode target variable (binary: 1 for fire, 0 for not fire)\n",
    "df['Fire'] = df['Classes'].apply(lambda x: 1 if 'fire' in x.lower() else 0)\n",
    "\n",
    "# Select features and target\n",
    "features = ['Temperature', 'RH', 'Ws', 'Rain', 'FFMC', 'DMC', 'DC', 'ISI', 'BUI', 'FWI']\n",
    "X = df[features]\n",
    "y = df['Fire']"
   ]
  },
  {
   "cell_type": "code",
   "execution_count": null,
   "id": "67be1691",
   "metadata": {},
   "outputs": [],
   "source": [
    "# Split into train and test (chronological split, ~80% train)\n",
    "train_size = int(len(df) * 0.8)\n",
    "train_X = X.iloc[:train_size]\n",
    "test_X = X.iloc[train_size:]\n",
    "train_y = y.iloc[:train_size]\n",
    "test_y = y.iloc[train_size:]"
   ]
  },
  {
   "cell_type": "code",
   "execution_count": null,
   "id": "6a8759cb",
   "metadata": {},
   "outputs": [],
   "source": [
    "# Scale features\n",
    "feature_scaler = MinMaxScaler()\n",
    "feature_scaler.fit(train_X)\n",
    "scaled_train_X = feature_scaler.transform(train_X)\n",
    "scaled_test_X = feature_scaler.transform(test_X)"
   ]
  },
  {
   "cell_type": "code",
   "execution_count": null,
   "id": "ce21d902",
   "metadata": {},
   "outputs": [],
   "source": [
    "# Reshape target for consistency (though binary, we treat as float)\n",
    "train_y_np = train_y.values.reshape(-1, 1).astype(float)\n",
    "test_y_np = test_y.values.reshape(-1, 1).astype(float)"
   ]
  },
  {
   "cell_type": "code",
   "execution_count": null,
   "id": "ef0b1901",
   "metadata": {},
   "outputs": [],
   "source": [
    "# We don't scale binary targets typically, but for consistency with original code\n",
    "target_scaler = MinMaxScaler()\n",
    "target_scaler.fit(train_y_np)\n",
    "scaled_train_y = target_scaler.transform(train_y_np)\n",
    "scaled_test_y = target_scaler.transform(test_y_np)\n"
   ]
  },
  {
   "cell_type": "code",
   "execution_count": null,
   "id": "f21ffdb9",
   "metadata": {},
   "outputs": [],
   "source": [
    "# Parameters for time series generator\n",
    "batch = 1\n",
    "input_length = 12  # Using similar input length as original code\n",
    "features_count = len(features)"
   ]
  },
  {
   "cell_type": "code",
   "execution_count": null,
   "id": "02686004",
   "metadata": {},
   "outputs": [],
   "source": [
    "# Generate time series sequences for training\n",
    "generator = TimeseriesGenerator(scaled_train_X, scaled_train_y, length=input_length, batch_size=batch)\n",
    "\n",
    "# Generate test sequences\n",
    "test_generator = TimeseriesGenerator(scaled_test_X, scaled_test_y, length=input_length, batch_size=batch)"
   ]
  },
  {
   "cell_type": "code",
   "execution_count": null,
   "id": "2c90357c",
   "metadata": {},
   "outputs": [],
   "source": [
    "# Build the model\n",
    "model = Sequential()\n",
    "model.add(LSTM(100, activation='relu', input_shape=(input_length, features_count)))\n",
    "model.add(Dense(1, activation='sigmoid'))  # Sigmoid for binary classification\n",
    "\n",
    "model.compile(optimizer='adam', loss='binary_crossentropy', metrics=['accuracy'])\n",
    "model.fit(generator, epochs=10)"
   ]
  },
  {
   "cell_type": "code",
   "execution_count": null,
   "id": "54c0d8bd",
   "metadata": {},
   "outputs": [],
   "source": [
    "# Predict on test sequences\n",
    "scaled_predictions = model.predict(test_generator)\n",
    "\n",
    "# Inverse transform predictions and threshold for binary\n",
    "true_predictions = target_scaler.inverse_transform(scaled_predictions)\n",
    "binary_predictions = (true_predictions > 0.5).astype(int)\n",
    "\n",
    "# Add predictions to test dataframe (aligning for sequence length)\n",
    "test_df = test_X.iloc[input_length:].copy()\n",
    "test_df['Actual'] = test_y.iloc[input_length:]\n",
    "test_df['Predictions'] = binary_predictions.flatten()  # Flatten to match shape\n",
    "\n",
    "# Plot actual vs predictions\n",
    "test_df[['Actual', 'Predictions']].plot(figsize=(14, 5))\n",
    "plt.show()  # Explicitly show the plot"
   ]
  }
 ],
 "metadata": {
  "kernelspec": {
   "display_name": "tf",
   "language": "python",
   "name": "python3"
  },
  "language_info": {
   "codemirror_mode": {
    "name": "ipython",
    "version": 3
   },
   "file_extension": ".py",
   "mimetype": "text/x-python",
   "name": "python",
   "nbconvert_exporter": "python",
   "pygments_lexer": "ipython3",
   "version": "3.10.16"
  }
 },
 "nbformat": 4,
 "nbformat_minor": 5
}
