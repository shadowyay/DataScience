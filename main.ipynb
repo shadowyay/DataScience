{
 "cells": [
  {
   "cell_type": "code",
   "execution_count": 1,
   "id": "c4c15dd5",
   "metadata": {},
   "outputs": [],
   "source": [
    "import pandas as pd\n",
    "import numpy as np\n",
    "from sklearn.preprocessing import MinMaxScaler\n",
    "from tensorflow.keras.preprocessing.sequence import TimeseriesGenerator\n",
    "from tensorflow.keras.models import Sequential\n",
    "from tensorflow.keras.layers import LSTM, Dense\n",
    "import matplotlib.pyplot as plt  # Added for plotting"
   ]
  },
  {
   "cell_type": "code",
   "execution_count": 2,
   "id": "4bf62065",
   "metadata": {},
   "outputs": [],
   "source": [
    "# Load the dataset\n",
    "df = pd.read_csv(\"last1.csv\")\n",
    "\n",
    "# Fix column names by stripping spaces\n",
    "df.columns = df.columns.str.strip()\n",
    "\n",
    "# Create Date index\n",
    "df['Date'] = pd.to_datetime(df[['year', 'month', 'day']])\n",
    "df.set_index('Date', inplace=True)\n"
   ]
  },
  {
   "cell_type": "code",
   "execution_count": 3,
   "id": "06cd436d",
   "metadata": {},
   "outputs": [],
   "source": [
    "# Encode target variable (binary: 1 for fire, 0 for not fire)\n",
    "df['Fire'] = df['Classes'].apply(lambda x: 1 if 'fire' in x.lower() else 0)\n",
    "\n",
    "# Select features and target\n",
    "features = ['Temperature', 'RH', 'Ws', 'Rain', 'FFMC', 'DMC', 'DC', 'ISI', 'BUI', 'FWI']\n",
    "X = df[features]\n",
    "y = df['Fire']"
   ]
  },
  {
   "cell_type": "code",
   "execution_count": 4,
   "id": "67be1691",
   "metadata": {},
   "outputs": [],
   "source": [
    "# Split into train and test (chronological split, ~80% train)\n",
    "train_size = int(len(df) * 0.8)\n",
    "train_X = X.iloc[:train_size]\n",
    "test_X = X.iloc[train_size:]\n",
    "train_y = y.iloc[:train_size]\n",
    "test_y = y.iloc[train_size:]"
   ]
  },
  {
   "cell_type": "code",
   "execution_count": 5,
   "id": "6a8759cb",
   "metadata": {},
   "outputs": [],
   "source": [
    "# Scale features\n",
    "feature_scaler = MinMaxScaler()\n",
    "feature_scaler.fit(train_X)\n",
    "scaled_train_X = feature_scaler.transform(train_X)\n",
    "scaled_test_X = feature_scaler.transform(test_X)"
   ]
  },
  {
   "cell_type": "code",
   "execution_count": 6,
   "id": "ce21d902",
   "metadata": {},
   "outputs": [],
   "source": [
    "# Reshape target for consistency (though binary, we treat as float)\n",
    "train_y_np = train_y.values.reshape(-1, 1).astype(float)\n",
    "test_y_np = test_y.values.reshape(-1, 1).astype(float)"
   ]
  },
  {
   "cell_type": "code",
   "execution_count": 7,
   "id": "ef0b1901",
   "metadata": {},
   "outputs": [],
   "source": [
    "# We don't scale binary targets typically, but for consistency with original code\n",
    "target_scaler = MinMaxScaler()\n",
    "target_scaler.fit(train_y_np)\n",
    "scaled_train_y = target_scaler.transform(train_y_np)\n",
    "scaled_test_y = target_scaler.transform(test_y_np)\n"
   ]
  },
  {
   "cell_type": "code",
   "execution_count": 8,
   "id": "f21ffdb9",
   "metadata": {},
   "outputs": [],
   "source": [
    "# Parameters for time series generator\n",
    "batch = 1\n",
    "input_length = 12  # Using similar input length as original code\n",
    "features_count = len(features)"
   ]
  },
  {
   "cell_type": "code",
   "execution_count": 9,
   "id": "02686004",
   "metadata": {},
   "outputs": [],
   "source": [
    "# Generate time series sequences for training\n",
    "generator = TimeseriesGenerator(scaled_train_X, scaled_train_y, length=input_length, batch_size=batch)\n",
    "\n",
    "# Generate test sequences\n",
    "test_generator = TimeseriesGenerator(scaled_test_X, scaled_test_y, length=input_length, batch_size=batch)"
   ]
  },
  {
   "cell_type": "code",
   "execution_count": 10,
   "id": "2c90357c",
   "metadata": {},
   "outputs": [
    {
     "name": "stdout",
     "output_type": "stream",
     "text": [
      "WARNING:tensorflow:Layer lstm will not use cuDNN kernels since it doesn't meet the criteria. It will use a generic GPU kernel as fallback when running on GPU.\n",
      "Epoch 1/10\n",
      "85/85 [==============================] - 3s 15ms/step - loss: 0.1441 - accuracy: 0.9647\n",
      "Epoch 2/10\n",
      "85/85 [==============================] - 1s 15ms/step - loss: 0.0000e+00 - accuracy: 1.0000\n",
      "Epoch 3/10\n",
      "85/85 [==============================] - 1s 15ms/step - loss: 0.0000e+00 - accuracy: 1.0000\n",
      "Epoch 4/10\n",
      "85/85 [==============================] - 1s 15ms/step - loss: 0.0000e+00 - accuracy: 1.0000\n",
      "Epoch 5/10\n",
      "85/85 [==============================] - 1s 17ms/step - loss: 0.0000e+00 - accuracy: 1.0000\n",
      "Epoch 6/10\n",
      "85/85 [==============================] - 1s 17ms/step - loss: 0.0000e+00 - accuracy: 1.0000\n",
      "Epoch 7/10\n",
      "85/85 [==============================] - 1s 15ms/step - loss: 0.0000e+00 - accuracy: 1.0000\n",
      "Epoch 8/10\n",
      "85/85 [==============================] - 1s 15ms/step - loss: 0.0000e+00 - accuracy: 1.0000\n",
      "Epoch 9/10\n",
      "85/85 [==============================] - 1s 16ms/step - loss: 0.0000e+00 - accuracy: 1.0000\n",
      "Epoch 10/10\n",
      "85/85 [==============================] - 1s 16ms/step - loss: 0.0000e+00 - accuracy: 1.0000\n"
     ]
    },
    {
     "data": {
      "text/plain": [
       "<keras.callbacks.History at 0x24ca4e1aec0>"
      ]
     },
     "execution_count": 10,
     "metadata": {},
     "output_type": "execute_result"
    }
   ],
   "source": [
    "# Build the model\n",
    "model = Sequential()\n",
    "model.add(LSTM(100, activation='relu', input_shape=(input_length, features_count)))\n",
    "model.add(Dense(1, activation='sigmoid'))  # Sigmoid for binary classification\n",
    "\n",
    "model.compile(optimizer='adam', loss='binary_crossentropy', metrics=['accuracy'])\n",
    "model.fit(generator, epochs=10)"
   ]
  },
  {
   "cell_type": "code",
   "execution_count": 11,
   "id": "54c0d8bd",
   "metadata": {},
   "outputs": [
    {
     "name": "stdout",
     "output_type": "stream",
     "text": [
      "13/13 [==============================] - 0s 3ms/step\n"
     ]
    },
    {
     "data": {
      "image/png": "[encoded data removed]",
      "text/plain": [
       "<Figure size 1400x500 with 1 Axes>"
      ]
     },
     "metadata": {},
     "output_type": "display_data"
    }
   ],
   "source": [
    "# Predict on test sequences\n",
    "scaled_predictions = model.predict(test_generator)\n",
    "\n",
    "# Inverse transform predictions and threshold for binary\n",
    "true_predictions = target_scaler.inverse_transform(scaled_predictions)\n",
    "binary_predictions = (true_predictions > 0.5).astype(int)\n",
    "\n",
    "# Add predictions to test dataframe (aligning for sequence length)\n",
    "test_df = test_X.iloc[input_length:].copy()\n",
    "test_df['Actual'] = test_y.iloc[input_length:]\n",
    "test_df['Predictions'] = binary_predictions.flatten()  # Flatten to match shape\n",
    "\n",
    "# Plot actual vs predictions\n",
    "test_df[['Actual', 'Predictions']].plot(figsize=(14, 5))\n",
    "plt.show()  # Explicitly show the plot"
   ]
  }
 ],
 "metadata": {
  "kernelspec": {
   "display_name": "tf",
   "language": "python",
   "name": "python3"
  },
  "language_info": {
   "codemirror_mode": {
    "name": "ipython",
    "version": 3
   },
   "file_extension": ".py",
   "mimetype": "text/x-python",
   "name": "python",
   "nbconvert_exporter": "python",
   "pygments_lexer": "ipython3",
   "version": "3.10.16"
  }
 },
 "nbformat": 4,
 "nbformat_minor": 5
}
