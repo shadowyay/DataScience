{
 "cells": [
  {
   "cell_type": "code",
   "execution_count": null,
   "id": "7f1b9107",
   "metadata": {
    "vscode": {
     "languageId": "plaintext"
    }
   },
   "outputs": [],
   "source": [
    "import pandas as pd\n",
    "import numpy as np\n",
    "import tensorflow as tf\n",
    "from tensorflow.keras.models import Sequential # type: ignore\n",
    "from tensorflow.keras.layers import Dense, LSTM, Dropout # type: ignore\n",
    "from tensorflow.keras.optimizers import Adam # type: ignore\n",
    "from sklearn.preprocessing import StandardScaler\n",
    "from sklearn.metrics import accuracy_score, classification_report, confusion_matrix, f1_score\n",
    "from sklearn.utils.class_weight import compute_class_weight\n",
    "import matplotlib.pyplot as plt\n",
    "import seaborn as sns\n",
    "from datetime import datetime, timedelta"
   ]
  },
  {
   "cell_type": "code",
   "execution_count": null,
   "id": "5ddb3226",
   "metadata": {
    "vscode": {
     "languageId": "plaintext"
    }
   },
   "outputs": [],
   "source": [
    "DATA_PATH = 'xx1.csv'\n",
    "SEQUENCE_LENGTH = 7\n",
    "TRAIN_RATIO = 0.8\n",
    "EPOCHS = 10\n",
    "BATCH_SIZE = 64\n",
    "THRESHOLD = 0.5\n",
    "\n",
    "FEATURE_COLUMNS = ['PRECIPITATION', 'MAX_TEMP', 'MIN_TEMP', 'AVG_WIND_SPEED', 'TEMP_RANGE', 'WIND_TEMP_RATIO', 'LAGGED_PRECIPITATION', 'LAGGED_AVG_WIND_SPEED', 'DAY_OF_YEAR', 'Winter', 'Spring', 'Summer', 'Fall', 'YEAR', 'MONTH' ]\n",
    "TARGET_COLUMN = 'FIRE_START_DAY'"
   ]
  },
  {
   "cell_type": "code",
   "execution_count": null,
   "id": "caca3e73",
   "metadata": {
    "vscode": {
     "languageId": "plaintext"
    }
   },
   "outputs": [],
   "source": [
    "print(\"Loading and preprocessing data...\")\n",
    "\n",
    "# Load data\n",
    "df = pd.read_csv(DATA_PATH)\n",
    "df['DATE'] = pd.to_datetime(df['DATE'])\n",
    "\n",
    "# Sort by date to ensure chronological order\n",
    "df = df.sort_values('DATE').reset_index(drop=True)\n",
    "\n",
    "print(f\"Dataset shape: {df.shape}\")\n",
    "print(f\"Date range: {df['DATE'].min()} to {df['DATE'].max()}\")\n",
    "print(f\"Fire events: {df['FIRE_START_DAY'].sum()} out of {len(df)} days ({df['FIRE_START_DAY'].mean():.2%})\")"
   ]
  },
  {
   "cell_type": "code",
   "execution_count": null,
   "id": "fcf493c4",
   "metadata": {},
   "outputs": [],
   "source": [
    "# Check for missing values after loading\n",
    "print(\"\\nChecking for missing values:\")\n",
    "print(df.isnull().sum())\n",
    "\n",
    "# Fill missing values in specified columns with the mean\n",
    "for col in FEATURE_COLUMNS:\n",
    "    if df[col].isnull().any():\n",
    "        mean_val = df[col].mean()\n",
    "        df[col] = df[col].fillna(mean_val)\n",
    "        print(f\"Filled missing values in '{col}' with mean: {mean_val:.2f}\")\n",
    "\n",
    "# Verify missing values are handled\n",
    "print(\"\\nChecking for missing values after filling:\")\n",
    "print(df.isnull().sum())\n",
    "\n",
    "df.head()"
   ]
  },
  {
   "cell_type": "code",
   "execution_count": null,
   "id": "36e300d3",
   "metadata": {},
   "outputs": [],
   "source": [
    "from statsmodels.tsa.seasonal import seasonal_decompose"
   ]
  },
  {
   "cell_type": "code",
   "execution_count": null,
   "id": "539dc600",
   "metadata": {},
   "outputs": [],
   "source": [
    "# Take only the first 3650 days for seasonal decomposition\n",
    "df_1095 = df.head(1095)\n",
    "\n",
    "# Set the date column as index for the first 3650 days\n",
    "df_time_indexed_1095 = df_1095.set_index('DATE')\n",
    "\n",
    "# Use a 365-day period to look for annual seasonal patterns\n",
    "results = seasonal_decompose(df_time_indexed_1095['FIRE_START_DAY'], period=365)\n",
    "\n",
    "# Create your own subplots with ultra wide size\n",
    "fig, axes = plt.subplots(4, 1, figsize=(16, 8))\n",
    "results.observed.plot(ax=axes[0], title='Observed')\n",
    "results.trend.plot(ax=axes[1], title='Trend')\n",
    "results.seasonal.plot(ax=axes[2], title='Seasonal')\n",
    "results.resid.plot(ax=axes[3], title='Residual')\n",
    "plt.tight_layout()\n",
    "plt.show()"
   ]
  },
  {
   "cell_type": "code",
   "execution_count": null,
   "id": "b3a814fb",
   "metadata": {},
   "outputs": [],
   "source": [
    "# Set date as index for analysis\n",
    "df_time_indexed = df.set_index('DATE')\n",
    "\n",
    "# Take only first 3 years (approximately 1095 days)\n",
    "df_3years = df_time_indexed.head(1095)\\\n",
    "    \n",
    "# 1. BASIC STATISTICS\n",
    "\n",
    "print(\"=\"*60)\n",
    "print(\"DETAILED DATA ANALYSIS - FIRST 3 YEARS\")\n",
    "print(\"=\"*60)"
   ]
  },
  {
   "cell_type": "code",
   "execution_count": null,
   "id": "642d16a3",
   "metadata": {},
   "outputs": [],
   "source": [
    "print(\"\\n1. DATASET OVERVIEW:\")\n",
    "print(f\"   Total records: {len(df_3years):,}\")\n",
    "print(f\"   Date range: {df_3years.index.min()} to {df_3years.index.max()}\")\n",
    "print(f\"   Duration: {(df_3years.index.max() - df_3years.index.min()).days} days\")\n",
    "print(f\"   Years covered: {df_3years.index.max().year - df_3years.index.min().year + 1}\")"
   ]
  },
  {
   "cell_type": "code",
   "execution_count": null,
   "id": "296999bf",
   "metadata": {},
   "outputs": [],
   "source": [
    "print(\"\\n2. FIRE EVENTS ANALYSIS:\")\n",
    "fire_events = df_3years['FIRE_START_DAY'].sum()\n",
    "fire_rate = (fire_events / len(df_3years)) * 100\n",
    "print(f\"   Total fire events: {fire_events:,}\")\n",
    "print(f\"   Fire rate: {fire_rate:.2f}%\")\n",
    "print(f\"   Average fires per year: {fire_events / 3:.1f}\")"
   ]
  },
  {
   "cell_type": "code",
   "execution_count": null,
   "id": "594d3a63",
   "metadata": {},
   "outputs": [],
   "source": [
    "print(\"\\n3. FEATURE STATISTICS:\")\n",
    "print(df_3years.describe())"
   ]
  }
 ],
 "metadata": {
  "language_info": {
   "name": "python"
  }
 },
 "nbformat": 4,
 "nbformat_minor": 5
}
